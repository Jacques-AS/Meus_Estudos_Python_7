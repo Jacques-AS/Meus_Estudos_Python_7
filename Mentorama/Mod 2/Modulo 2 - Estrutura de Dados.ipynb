{
 "cells": [
  {
   "cell_type": "markdown",
   "metadata": {},
   "source": [
    "# Módulo 2 - Estrutura de Dados"
   ]
  },
  {
   "cell_type": "markdown",
   "metadata": {},
   "source": [
    "Neste módulo aprenderemos algumas das principais Estruturas de dados do Python.Ao final desse módulo, você estará apto a programar com Listas e suas variações.\n",
    "\n",
    "* Listas\n",
    "* Tuplas\n",
    "* Pilhas\n",
    "* Filas\n",
    "* Conjuntos\n",
    "* Dicionários\n",
    "* Funções\n",
    "* Módulos\n",
    "\n",
    "## 1. Listas e Tuplas"
   ]
  },
  {
   "cell_type": "markdown",
   "metadata": {},
   "source": [
    "## 1.1 Listas\n",
    "\n",
    "* Lista é um tipo de dados embutidos no Python usados para armazenar coleções de dados\n",
    "* As listas são usadas para armazenar vários itens em uma única variável\n",
    "* Não existem vetores em Python, para isso usamos listas\n",
    "* Os ítens de uma lista podem ser acessados como em um vetor: lista[0]\n",
    "* As listas são criadas usando colchetes"
   ]
  },
  {
   "cell_type": "code",
   "execution_count": null,
   "metadata": {},
   "outputs": [],
   "source": [
    "# Inicializa uma lista vazia\n",
    "lista = list()\n",
    "lista"
   ]
  },
  {
   "cell_type": "code",
   "execution_count": null,
   "metadata": {
    "scrolled": true
   },
   "outputs": [],
   "source": [
    "# Criando uma lista e consultando os elementos\n",
    "lista = [3, 2, 10, 1, 0]\n",
    "#len(lista) # 5\n",
    "#lista[0] = 10 \n",
    "#lista[0:2] \n",
    "#lista[:3]\n",
    "#lista[3:]\n",
    "#lista[:-1] \n",
    "#lista[1:-1]"
   ]
  },
  {
   "cell_type": "code",
   "execution_count": null,
   "metadata": {},
   "outputs": [],
   "source": [
    "# Adicionando elementos em uma lista\n",
    "#lista = ['a']\n",
    "#lista.append('b')\n",
    "lista.append('c')\n",
    "lista"
   ]
  },
  {
   "cell_type": "code",
   "execution_count": null,
   "metadata": {},
   "outputs": [],
   "source": [
    "# Prolonga uma lista adicionando no fim todos os elementos do argumento passado como parâmentro\n",
    "lista.extend('a' 'b' 'c')\n",
    "lista"
   ]
  },
  {
   "cell_type": "code",
   "execution_count": null,
   "metadata": {},
   "outputs": [],
   "source": [
    "# Removendo um elemento da lista\n",
    "del lista[1]\n",
    "lista"
   ]
  },
  {
   "cell_type": "code",
   "execution_count": null,
   "metadata": {},
   "outputs": [],
   "source": [
    "# Inserir elementos em uma lista em uma dada posição\n",
    "#lista.insert(i, x)\n",
    "lista.insert(0, 'a')\n",
    "lista"
   ]
  },
  {
   "cell_type": "code",
   "execution_count": null,
   "metadata": {},
   "outputs": [],
   "source": [
    "# Remove o primeiro item encontrado na lista cujo valor é igual a x\n",
    "# Caso não encontre o elemento, uma exceção ocorre\n",
    "lista.remove(x) #a"
   ]
  },
  {
   "cell_type": "code",
   "execution_count": null,
   "metadata": {},
   "outputs": [],
   "source": [
    "# Remove um item em uma dada posição na lista e o retorna.\n",
    "lista.pop(0)"
   ]
  },
  {
   "cell_type": "code",
   "execution_count": null,
   "metadata": {},
   "outputs": [],
   "source": [
    "# Contando a quantidade de palavras 'apple' em fruits\n",
    "fruits = ['orange', 'apple', 'pear', 'banana', 'kiwi', 'apple', 'banana']\n",
    "fruits.count('apple')"
   ]
  },
  {
   "cell_type": "markdown",
   "metadata": {},
   "source": [
    "## 1.2 Tuplas\n",
    "\n",
    "* Em geral, associadas a listas heterogêneas\n",
    "* Os itens de tupla são ordenados, imutáveis e permitem valores duplicados\n",
    "* As tuplas podem ser criadas utilizando parênteses\n",
    "* Os itens de tupla são indexados:\n",
    "    * o primeiro item tem índice [0] \n",
    "    * o segundo item tem índice [1]\n",
    "\n",
    "Vamos ver alguns exemplos?"
   ]
  },
  {
   "cell_type": "code",
   "execution_count": null,
   "metadata": {},
   "outputs": [],
   "source": [
    "# Representando coordenadas\n",
    "latitude = 12.2515\n",
    "longitude = 25.9878\n",
    "latitude_mentorama = 23.4567\n",
    "longitude_mentorama = -3.4495\n",
    "latitude_oxford = 34.3223\n",
    "longitude_oxford = -2,3455\n",
    "latitude_stanford = 32.3522\n",
    "longitude_stanford = -2,6955\n",
    "\n",
    "# Uma melhor representação de coordenadas\n",
    "coordenadas = (latitude, longitude)\n",
    "print('As coordenadas são:', coordenadas)"
   ]
  },
  {
   "cell_type": "code",
   "execution_count": null,
   "metadata": {},
   "outputs": [],
   "source": [
    "# Descompactando um tupla\n",
    "tupla = ('a', 'b', 'c')\n",
    "x, y, z = tupla\n",
    "tupla\n",
    "# x"
   ]
  },
  {
   "cell_type": "code",
   "execution_count": null,
   "metadata": {},
   "outputs": [],
   "source": [
    "type(tupla)"
   ]
  },
  {
   "cell_type": "markdown",
   "metadata": {},
   "source": [
    "**Obs: Listas vs. Tuplas**\n",
    "\n",
    "* Possuem uma função semântica diferente uma da outra\n",
    "* Listas geralmente trabalham com ordem, enquanto tuplas geralmente trabalham com estrutura.\n",
    "\n",
    "\n",
    "\n",
    "\n",
    "\n",
    "\n"
   ]
  },
  {
   "cell_type": "markdown",
   "metadata": {},
   "source": [
    "## 2. Conjuntos, Pilhas e Filas"
   ]
  },
  {
   "cell_type": "markdown",
   "metadata": {},
   "source": [
    "### 2.1 Conjuntos\n",
    "\n",
    "* Conjuntos são usados para armazenar vários itens em uma única variável\n",
    "* Um conjunto é uma coleção não ordenada e indexada\n",
    "* Os conjunto são escritos com colchetes\n",
    "* Itens do conjunto não podem ser alterados e não permitem valores duplicados\n"
   ]
  },
  {
   "cell_type": "code",
   "execution_count": null,
   "metadata": {},
   "outputs": [],
   "source": [
    "# Declaração de um conjunto\n",
    "meu_set = {1, 2, 3, 4, 1}\n",
    "print(meu_set)\n",
    "print(type(meu_set))\n",
    "\n",
    "meu_set_2 = set([1, 2, 8, 9, 10])\n",
    "print(meu_set_2)\n",
    "print(type(meu_set_2))"
   ]
  },
  {
   "cell_type": "code",
   "execution_count": null,
   "metadata": {},
   "outputs": [],
   "source": [
    "# Adicionando elementos\n",
    "meu_set.add(2)\n",
    "print(\"Adição\", meu_set)"
   ]
  },
  {
   "cell_type": "code",
   "execution_count": null,
   "metadata": {},
   "outputs": [],
   "source": [
    "# Atualizando o conjunto\n",
    "meu_set.update([3, 4, 5, 6])\n",
    "print(\"Atualização\", meu_set)"
   ]
  },
  {
   "cell_type": "code",
   "execution_count": null,
   "metadata": {},
   "outputs": [],
   "source": [
    "# Removendo elemento\n",
    "meu_set.discard(2)\n",
    "print(\"Remoção\", meu_set)"
   ]
  },
  {
   "cell_type": "code",
   "execution_count": null,
   "metadata": {},
   "outputs": [],
   "source": [
    "# Operações Matemáticas sobre conjuntos\n",
    "# União\n",
    "união = meu_set | meu_set_2\n",
    "print(união)"
   ]
  },
  {
   "cell_type": "code",
   "execution_count": null,
   "metadata": {},
   "outputs": [],
   "source": [
    "# Intercessão\n",
    "intercessão = meu_set & meu_set_2\n",
    "print(intercessão)"
   ]
  },
  {
   "attachments": {
    "filaepilha.jpg": {
     "image/jpeg": "[encoded data removed]"
    }
   },
   "cell_type": "markdown",
   "metadata": {},
   "source": [
    "### 2.2 Pilhas e Filas\n",
    "\n",
    "![filaepilha.jpg](attachment:filaepilha.jpg)\n",
    "\n",
    "* A pilha é uma estrutura de dados básica que fornece a lógica conhecida por LIFO(Last In, First out). Isso significa que o ultimo dado adicionado a estrutura será o primeiro removido dela e por isso foca a entrada e saída de dados na mesma ponta do vetor/lista.\n",
    "\n",
    "* A fila é uma estrutura de dados básica que fornece a lógica conhecida por FIFO(First In, First out). Isso significa que o primeiro dado adicionado a estrutura será o primeiro removido dela e por isso foca a entrada e saída de dados na mesma ponta do vetor/lista."
   ]
  },
  {
   "cell_type": "code",
   "execution_count": null,
   "metadata": {},
   "outputs": [],
   "source": [
    "# Criando e manipulando pilhas (lifo)\n",
    "pilha = [3, 1, 5]"
   ]
  },
  {
   "cell_type": "code",
   "execution_count": null,
   "metadata": {},
   "outputs": [],
   "source": [
    "pilha.append(2) # [3, 1, 5, 2]"
   ]
  },
  {
   "cell_type": "code",
   "execution_count": null,
   "metadata": {},
   "outputs": [],
   "source": [
    "pilha.pop() # [3, 1]"
   ]
  },
  {
   "cell_type": "code",
   "execution_count": null,
   "metadata": {},
   "outputs": [],
   "source": [
    "# Criando e manipulando filas (fifo)\n",
    "from collections import deque\n",
    "fila = deque([5, 8])\n",
    "fila.append(10) # [5, 8, 10]\n",
    "fila.popleft() # [8, 10]"
   ]
  },
  {
   "cell_type": "markdown",
   "metadata": {},
   "source": [
    "## 2. Dicionários\n",
    "\n",
    "* Dicionários são usados para armazenar valores de dados em pares chave: valor.\n",
    "* Um dicionário é uma coleção não ordenada, mutável e não permite duplicatas.\n",
    "* Os dicionários são escritos com chaves e suportam vários tipos de dados"
   ]
  },
  {
   "cell_type": "code",
   "execution_count": null,
   "metadata": {},
   "outputs": [],
   "source": [
    "# Inicializa um dicionário vazio\n",
    "dicionário = dict()\n",
    "dicionário"
   ]
  },
  {
   "cell_type": "code",
   "execution_count": null,
   "metadata": {},
   "outputs": [],
   "source": [
    "# Definindo um dicionário\n",
    "# Perceba que o valor de ano é sobrescrito\n",
    "dicionário = {\n",
    "    \"brand\": \"Fiat\",\n",
    "    \"model\": \"Toro\",\n",
    "    \"electric\": False,\n",
    "    \"year\": 2020,\n",
    "    \"year\": 2019,\n",
    "    \"colors\": [\"red\", \"white\", \"blue\"]\n",
    "}\n",
    "print(dicionário)"
   ]
  },
  {
   "cell_type": "code",
   "execution_count": null,
   "metadata": {},
   "outputs": [],
   "source": [
    "# Vamos imprimir a marca do carro\n",
    "print(dicionário[\"brand\"])"
   ]
  },
  {
   "cell_type": "code",
   "execution_count": null,
   "metadata": {},
   "outputs": [],
   "source": [
    "# Criação e manipulação de dicionários\n",
    "dados = {\"nome\": \"Ricardo\", \"visitas\": 25}"
   ]
  },
  {
   "cell_type": "code",
   "execution_count": null,
   "metadata": {},
   "outputs": [],
   "source": [
    "# impressão do valor atribuído a nome\n",
    "dados[\"nome\"] # \"Ricardo\""
   ]
  },
  {
   "cell_type": "code",
   "execution_count": null,
   "metadata": {},
   "outputs": [],
   "source": [
    "# Incrementando a visita\n",
    "dados[\"visitas\"] += 1 # 26\n",
    "dados[\"visitas\"]"
   ]
  },
  {
   "cell_type": "code",
   "execution_count": null,
   "metadata": {},
   "outputs": [],
   "source": [
    "# Verifica se existe um valor para nome em nosso dicionário\n",
    "\"nome\" in dados # True"
   ]
  },
  {
   "cell_type": "code",
   "execution_count": null,
   "metadata": {},
   "outputs": [],
   "source": [
    "dados.get(\"likes\", 0) # Se a chave não existir, retorna 0"
   ]
  },
  {
   "cell_type": "code",
   "execution_count": null,
   "metadata": {},
   "outputs": [],
   "source": [
    "dados.keys() # [\"nome\", \"visitas\"]"
   ]
  },
  {
   "cell_type": "code",
   "execution_count": null,
   "metadata": {},
   "outputs": [],
   "source": [
    "dados.values() # [\"Ricardo\", 26]"
   ]
  },
  {
   "cell_type": "code",
   "execution_count": null,
   "metadata": {},
   "outputs": [],
   "source": [
    "dados.items() #[(\"nome\", \"Ricardo\"), (\"visitas\", 26)]"
   ]
  },
  {
   "cell_type": "markdown",
   "metadata": {},
   "source": [
    "## 2.7 Funções\n",
    "\n",
    "* Ao longo dos nossos estudos conhecemos diversas funções como: len(), int(), float(), print() e input(). \n",
    "* Funções são importantes para isolar uma tarefa específica em um trecho do programa\n",
    "\n",
    "Vamos criar nossas próprias funções?\n",
    "\n",
    "### 2.7.1 Variável locals vs. variável global"
   ]
  },
  {
   "cell_type": "code",
   "execution_count": null,
   "metadata": {},
   "outputs": [],
   "source": [
    "# Variavel local\n",
    "def variaveis():\n",
    "    var = 5\n",
    "    print(var) \n",
    "\n",
    "print(\"O valor da variável local é:\") \n",
    "variaveis()\n",
    "\n",
    "# Variavel global\n",
    "var = \"Algum valor\"\n",
    "print(\"O valor da variável global é:\\n\", var)"
   ]
  },
  {
   "cell_type": "markdown",
   "metadata": {},
   "source": [
    "### 2.7.2 Trabalhando com strings e números"
   ]
  },
  {
   "cell_type": "code",
   "execution_count": null,
   "metadata": {},
   "outputs": [],
   "source": [
    "# Definindo uma função com string\n",
    "def hello(meu_nome):\n",
    "  print('Olá',meu_nome)\n",
    "  \n",
    "hello('Felipe')"
   ]
  },
  {
   "cell_type": "code",
   "execution_count": null,
   "metadata": {
    "scrolled": true
   },
   "outputs": [],
   "source": [
    "# Definindo uma função que soma dois números\n",
    "def soma(a,b):\n",
    "    print(a+b)\n",
    "\n",
    "soma(2,5)\n",
    "soma(0,4)\n",
    "soma(-1,9)\n",
    "soma(1.5,2.8)"
   ]
  },
  {
   "cell_type": "code",
   "execution_count": null,
   "metadata": {},
   "outputs": [],
   "source": [
    "# Definindo uma função que soma dois números com o print fora da função\n",
    "def soma(a,b):\n",
    "    soma = a + b\n",
    "    return soma\n",
    "    #return(a+b)\n",
    "#print(soma(2,8))\n"
   ]
  },
  {
   "cell_type": "code",
   "execution_count": null,
   "metadata": {},
   "outputs": [],
   "source": [
    "# Retornando se o valor é par ou não\n",
    "def épar(x):\n",
    "    return(x%2==0)\n",
    "print(épar(2))\n",
    "print(épar(3))\n",
    "print(épar(-2))"
   ]
  },
  {
   "cell_type": "code",
   "execution_count": null,
   "metadata": {},
   "outputs": [],
   "source": [
    "# Reutilizando a função é par em outra função\n",
    "def épar(x):\n",
    "    return(x%2==0)\n",
    "def par_ou_ímpar(x):\n",
    "    if épar(x):\n",
    "        return \"par\"\n",
    "    else:\n",
    "        return \"ímpar\"\n",
    "print(par_ou_ímpar(3))\n",
    "print(par_ou_ímpar(6))"
   ]
  },
  {
   "cell_type": "code",
   "execution_count": null,
   "metadata": {},
   "outputs": [],
   "source": [
    "# Função que pesquisa em uma lista\n",
    "def pesquise(lista, valor):\n",
    "    for x,e in enumerate(lista):\n",
    "        if e == valor:\n",
    "            return x\n",
    "    return None\n",
    "L=[10,20,25,30]\n",
    "print(pesquise(L, 25))\n",
    "print(pesquise(L, 27))"
   ]
  },
  {
   "cell_type": "markdown",
   "metadata": {},
   "source": [
    "### 2.7.3 Função range() e len()"
   ]
  },
  {
   "cell_type": "code",
   "execution_count": null,
   "metadata": {
    "scrolled": true
   },
   "outputs": [],
   "source": [
    "# Função que imprime valores de 0 a 9 (10 valores)\n",
    "var = range(10)\n",
    "for n in var:\n",
    "  print(n)"
   ]
  },
  {
   "cell_type": "code",
   "execution_count": null,
   "metadata": {},
   "outputs": [],
   "source": [
    "# Função len retorna o tamanho do vetor / matriz\n",
    "tam_var = len(var)\n",
    "print(\"O tamanho da variável é:\", tam_var)"
   ]
  },
  {
   "cell_type": "markdown",
   "metadata": {},
   "source": [
    "### 2.7. Função lambda()\n",
    "\n",
    "* Podemos criar funções simples, sem nome, chamadas lambda()\n",
    "* São declaradas como variáveis e não possuem um def próprio\n",
    "* Elas são funções de uma linha, que funcionam como se houvesse a instrução return antes do comando"
   ]
  },
  {
   "cell_type": "code",
   "execution_count": null,
   "metadata": {},
   "outputs": [],
   "source": [
    "# Função lambda que recebe um valor e retorna o dobro dele\n",
    "a = lambda x: x*3\n",
    "print(a(2))"
   ]
  },
  {
   "cell_type": "code",
   "execution_count": null,
   "metadata": {},
   "outputs": [],
   "source": [
    "# Função lambda que recebe mais um parâmetro\n",
    "aumento = lambda a, b: (a*b/100)\n",
    "aumento(100,5)"
   ]
  },
  {
   "cell_type": "markdown",
   "metadata": {},
   "source": [
    "## 2.8 Módulos\n",
    "\n",
    "* Depois de criar diversas funções, os programas tendem a ficar muito grandes. \n",
    "* Para resolver o problema, podemos colocar essas funções em outros arquivos e de alguma forma utiliza-las sem reescrever ou copiar e colar. Como podemos fazer isso?\n",
    "* **Todo arquivo no Python com a extensão .py pode ser importado como módulo**, utilizando o comando import.\n",
    "\n",
    "Vamos criar dois scripts: entrada.py e soma.py"
   ]
  },
  {
   "cell_type": "code",
   "execution_count": null,
   "metadata": {},
   "outputs": [],
   "source": [
    "# Módulo entrada.py\n",
    "def valida_inteiro(mensagem, mínimo, máximo):\n",
    "    while True:\n",
    "        try:\n",
    "            v=int(input(mensagem))\n",
    "            if v>= mínimo and v <= máximo:\n",
    "                return v\n",
    "            else:\n",
    "                print(\"Digite um valor entre %d e %d\" %(mínimo, máximo))\n",
    "        except: \n",
    "            print(\"Você deve digitar um número inteiro\")"
   ]
  },
  {
   "cell_type": "code",
   "execution_count": null,
   "metadata": {},
   "outputs": [],
   "source": [
    "# Módulo soma.py (que importa entrada)\n",
    "import entrada\n",
    "L=[]\n",
    "for x in range(10):\n",
    "    L.append(entrada.valida_inteiro(\"Digite um número:\", 0, 20))\n",
    "print(\"Soma: %d\" % (sum(L)))"
   ]
  },
  {
   "cell_type": "code",
   "execution_count": null,
   "metadata": {},
   "outputs": [],
   "source": [
    "tupla = ('a', 'b', 'c')\n",
    "x, y, z = tupla\n",
    "x"
   ]
  }
 ],
 "metadata": {
  "kernelspec": {
   "display_name": "Python 3",
   "language": "python",
   "name": "python3"
  },
  "language_info": {
   "codemirror_mode": {
    "name": "ipython",
    "version": 3
   },
   "file_extension": ".py",
   "mimetype": "text/x-python",
   "name": "python",
   "nbconvert_exporter": "python",
   "pygments_lexer": "ipython3",
   "version": "3.8.5"
  }
 },
 "nbformat": 4,
 "nbformat_minor": 4
}
